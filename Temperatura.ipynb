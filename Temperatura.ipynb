{
 "cells": [
  {
   "cell_type": "code",
   "execution_count": 19,
   "id": "eadb4d58",
   "metadata": {},
   "outputs": [],
   "source": [
    "import pandas as pd\n",
    "import numpy as np\n",
    "import matplotlib.pyplot as plt\n",
    "\n",
    "# pre-processamento\n",
    "from sklearn.preprocessing import LabelEncoder\n",
    "\n",
    "# modelo\n",
    "from sklearn.linear_model import LogisticRegression"
   ]
  },
  {
   "cell_type": "code",
   "execution_count": 15,
   "id": "216adc41",
   "metadata": {
    "scrolled": true
   },
   "outputs": [
    {
     "data": {
      "text/html": [
       "<div>\n",
       "<style scoped>\n",
       "    .dataframe tbody tr th:only-of-type {\n",
       "        vertical-align: middle;\n",
       "    }\n",
       "\n",
       "    .dataframe tbody tr th {\n",
       "        vertical-align: top;\n",
       "    }\n",
       "\n",
       "    .dataframe thead th {\n",
       "        text-align: right;\n",
       "    }\n",
       "</style>\n",
       "<table border=\"1\" class=\"dataframe\">\n",
       "  <thead>\n",
       "    <tr style=\"text-align: right;\">\n",
       "      <th></th>\n",
       "      <th>date</th>\n",
       "      <th>temperatura</th>\n",
       "      <th>classification</th>\n",
       "    </tr>\n",
       "  </thead>\n",
       "  <tbody>\n",
       "    <tr>\n",
       "      <th>0</th>\n",
       "      <td>2020-01-01</td>\n",
       "      <td>29.1</td>\n",
       "      <td>quente</td>\n",
       "    </tr>\n",
       "    <tr>\n",
       "      <th>1</th>\n",
       "      <td>2020-02-01</td>\n",
       "      <td>31.2</td>\n",
       "      <td>muito quente</td>\n",
       "    </tr>\n",
       "    <tr>\n",
       "      <th>2</th>\n",
       "      <td>2020-03-01</td>\n",
       "      <td>28.5</td>\n",
       "      <td>quente</td>\n",
       "    </tr>\n",
       "    <tr>\n",
       "      <th>3</th>\n",
       "      <td>2020-04-01</td>\n",
       "      <td>28.0</td>\n",
       "      <td>quente</td>\n",
       "    </tr>\n",
       "    <tr>\n",
       "      <th>4</th>\n",
       "      <td>2020-05-01</td>\n",
       "      <td>24.0</td>\n",
       "      <td>confortavel</td>\n",
       "    </tr>\n",
       "    <tr>\n",
       "      <th>5</th>\n",
       "      <td>2020-06-01</td>\n",
       "      <td>20.0</td>\n",
       "      <td>frio</td>\n",
       "    </tr>\n",
       "  </tbody>\n",
       "</table>\n",
       "</div>"
      ],
      "text/plain": [
       "         date  temperatura classification\n",
       "0  2020-01-01         29.1         quente\n",
       "1  2020-02-01         31.2   muito quente\n",
       "2  2020-03-01         28.5         quente\n",
       "3  2020-04-01         28.0         quente\n",
       "4  2020-05-01         24.0    confortavel\n",
       "5  2020-06-01         20.0           frio"
      ]
     },
     "execution_count": 15,
     "metadata": {},
     "output_type": "execute_result"
    }
   ],
   "source": [
    "#leitura de dados csv\n",
    "df = pd.read_csv(\"https://pycourse.s3.amazonaws.com/temperature.csv\")\n",
    "df"
   ]
  },
  {
   "cell_type": "code",
   "execution_count": 16,
   "id": "ca8e8a03",
   "metadata": {},
   "outputs": [
    {
     "name": "stdout",
     "output_type": "stream",
     "text": [
      "x:\n",
      " [[29.1]\n",
      " [31.2]\n",
      " [28.5]\n",
      " [28. ]\n",
      " [24. ]\n",
      " [20. ]]\n",
      "y:\n",
      " [['quente']\n",
      " ['muito quente']\n",
      " ['quente']\n",
      " ['quente']\n",
      " ['confortavel']\n",
      " ['frio']]\n"
     ]
    }
   ],
   "source": [
    "# extração de x e y\n",
    "x, y = df[['temperatura']].values, df[['classification']].values\n",
    "print(\"x:\\n\", x)\n",
    "print(\"y:\\n\", y)"
   ]
  },
  {
   "cell_type": "code",
   "execution_count": 17,
   "id": "00a12dba",
   "metadata": {},
   "outputs": [
    {
     "name": "stdout",
     "output_type": "stream",
     "text": [
      "y:\n",
      " [3 2 3 3 0 1]\n"
     ]
    }
   ],
   "source": [
    "# conversão de y para valores númericos\n",
    "le = LabelEncoder() # converte valores categoricos em valores núméricos\n",
    "y = le.fit_transform(y.ravel()) # aplica a transformação e retorna um array\n",
    "print(\"y:\\n\", y)"
   ]
  },
  {
   "cell_type": "code",
   "execution_count": 20,
   "id": "d798102f",
   "metadata": {
    "scrolled": true
   },
   "outputs": [
    {
     "data": {
      "text/plain": [
       "LogisticRegression()"
      ]
     },
     "execution_count": 20,
     "metadata": {},
     "output_type": "execute_result"
    }
   ],
   "source": [
    "# classificador\n",
    "clf = LogisticRegression()\n",
    "clf.fit(x, y)"
   ]
  },
  {
   "cell_type": "code",
   "execution_count": 21,
   "id": "9cd879ee",
   "metadata": {},
   "outputs": [],
   "source": [
    "# gerando 100 valores de temperatura\n",
    "# linearmente espaçosos entre 0 e 45\n",
    "# predição em novos valores de temperatura\n",
    "x_test = np.linspace(start=0., stop=45, num=100).reshape(-1, 1)\n",
    "\n",
    "#predição desses valores\n",
    "y_pred = clf.predict(x_test)"
   ]
  },
  {
   "cell_type": "code",
   "execution_count": 22,
   "id": "8d896cad",
   "metadata": {},
   "outputs": [
    {
     "name": "stdout",
     "output_type": "stream",
     "text": [
      "[1 1 1 1 1 1 1 1 1 1 1 1 1 1 1 1 1 1 1 1 1 1 1 1 1 1 1 1 1 1 1 1 1 1 1 1 1\n",
      " 1 1 1 1 1 1 1 1 1 1 1 1 1 0 0 0 0 0 0 3 3 3 3 3 3 3 3 3 3 3 3 2 2 2 2 2 2\n",
      " 2 2 2 2 2 2 2 2 2 2 2 2 2 2 2 2 2 2 2 2 2 2 2 2 2 2]\n"
     ]
    }
   ],
   "source": [
    "print(y_pred)"
   ]
  },
  {
   "cell_type": "code",
   "execution_count": 23,
   "id": "ef06537a",
   "metadata": {},
   "outputs": [
    {
     "name": "stdout",
     "output_type": "stream",
     "text": [
      "['frio' 'frio' 'frio' 'frio' 'frio' 'frio' 'frio' 'frio' 'frio' 'frio'\n",
      " 'frio' 'frio' 'frio' 'frio' 'frio' 'frio' 'frio' 'frio' 'frio' 'frio'\n",
      " 'frio' 'frio' 'frio' 'frio' 'frio' 'frio' 'frio' 'frio' 'frio' 'frio'\n",
      " 'frio' 'frio' 'frio' 'frio' 'frio' 'frio' 'frio' 'frio' 'frio' 'frio'\n",
      " 'frio' 'frio' 'frio' 'frio' 'frio' 'frio' 'frio' 'frio' 'frio' 'frio'\n",
      " 'confortavel' 'confortavel' 'confortavel' 'confortavel' 'confortavel'\n",
      " 'confortavel' 'quente' 'quente' 'quente' 'quente' 'quente' 'quente'\n",
      " 'quente' 'quente' 'quente' 'quente' 'quente' 'quente' 'muito quente'\n",
      " 'muito quente' 'muito quente' 'muito quente' 'muito quente'\n",
      " 'muito quente' 'muito quente' 'muito quente' 'muito quente'\n",
      " 'muito quente' 'muito quente' 'muito quente' 'muito quente'\n",
      " 'muito quente' 'muito quente' 'muito quente' 'muito quente'\n",
      " 'muito quente' 'muito quente' 'muito quente' 'muito quente'\n",
      " 'muito quente' 'muito quente' 'muito quente' 'muito quente'\n",
      " 'muito quente' 'muito quente' 'muito quente' 'muito quente'\n",
      " 'muito quente' 'muito quente' 'muito quente']\n"
     ]
    }
   ],
   "source": [
    "# conversão de y_pred para os valores originais\n",
    "y_pred = le.inverse_transform(y_pred)\n",
    "print(y_pred)"
   ]
  },
  {
   "cell_type": "code",
   "execution_count": 24,
   "id": "f0ff514e",
   "metadata": {},
   "outputs": [],
   "source": [
    "# output\n",
    "output = {'new_temp': x_test.ravel(),\n",
    "          'new_class': y_pred.ravel()}\n",
    "output = pd.DataFrame(output)"
   ]
  },
  {
   "cell_type": "code",
   "execution_count": 25,
   "id": "50046407",
   "metadata": {},
   "outputs": [
    {
     "name": "stdout",
     "output_type": "stream",
     "text": [
      "<class 'pandas.core.frame.DataFrame'>\n",
      "RangeIndex: 100 entries, 0 to 99\n",
      "Data columns (total 2 columns):\n",
      " #   Column     Non-Null Count  Dtype  \n",
      "---  ------     --------------  -----  \n",
      " 0   new_temp   100 non-null    float64\n",
      " 1   new_class  100 non-null    object \n",
      "dtypes: float64(1), object(1)\n",
      "memory usage: 1.7+ KB\n"
     ]
    }
   ],
   "source": [
    "# estatisticas\n",
    "output.info()"
   ]
  },
  {
   "cell_type": "code",
   "execution_count": 26,
   "id": "91601b0c",
   "metadata": {},
   "outputs": [
    {
     "data": {
      "text/html": [
       "<div>\n",
       "<style scoped>\n",
       "    .dataframe tbody tr th:only-of-type {\n",
       "        vertical-align: middle;\n",
       "    }\n",
       "\n",
       "    .dataframe tbody tr th {\n",
       "        vertical-align: top;\n",
       "    }\n",
       "\n",
       "    .dataframe thead th {\n",
       "        text-align: right;\n",
       "    }\n",
       "</style>\n",
       "<table border=\"1\" class=\"dataframe\">\n",
       "  <thead>\n",
       "    <tr style=\"text-align: right;\">\n",
       "      <th></th>\n",
       "      <th>new_temp</th>\n",
       "    </tr>\n",
       "  </thead>\n",
       "  <tbody>\n",
       "    <tr>\n",
       "      <th>count</th>\n",
       "      <td>100.000000</td>\n",
       "    </tr>\n",
       "    <tr>\n",
       "      <th>mean</th>\n",
       "      <td>22.500000</td>\n",
       "    </tr>\n",
       "    <tr>\n",
       "      <th>std</th>\n",
       "      <td>13.187042</td>\n",
       "    </tr>\n",
       "    <tr>\n",
       "      <th>min</th>\n",
       "      <td>0.000000</td>\n",
       "    </tr>\n",
       "    <tr>\n",
       "      <th>25%</th>\n",
       "      <td>11.250000</td>\n",
       "    </tr>\n",
       "    <tr>\n",
       "      <th>50%</th>\n",
       "      <td>22.500000</td>\n",
       "    </tr>\n",
       "    <tr>\n",
       "      <th>75%</th>\n",
       "      <td>33.750000</td>\n",
       "    </tr>\n",
       "    <tr>\n",
       "      <th>max</th>\n",
       "      <td>45.000000</td>\n",
       "    </tr>\n",
       "  </tbody>\n",
       "</table>\n",
       "</div>"
      ],
      "text/plain": [
       "         new_temp\n",
       "count  100.000000\n",
       "mean    22.500000\n",
       "std     13.187042\n",
       "min      0.000000\n",
       "25%     11.250000\n",
       "50%     22.500000\n",
       "75%     33.750000\n",
       "max     45.000000"
      ]
     },
     "execution_count": 26,
     "metadata": {},
     "output_type": "execute_result"
    }
   ],
   "source": [
    "# estatisticas\n",
    "output.describe()"
   ]
  },
  {
   "cell_type": "code",
   "execution_count": 28,
   "id": "965b307e",
   "metadata": {},
   "outputs": [
    {
     "data": {
      "image/png": "[encoded data removed]",
      "text/plain": [
       "<Figure size 720x360 with 1 Axes>"
      ]
     },
     "metadata": {
      "needs_background": "light"
     },
     "output_type": "display_data"
    }
   ],
   "source": [
    "# contagem de valores gerados\n",
    "output['new_class'].value_counts().plot.bar(figsize=(10,5),\n",
    "                                            rot=10,\n",
    "                                            title='# de novos valores gerados');"
   ]
  },
  {
   "cell_type": "code",
   "execution_count": 29,
   "id": "9116dd1d",
   "metadata": {},
   "outputs": [],
   "source": [
    "# sistema automático\n",
    "def classify_temp():\n",
    "  \"\"\"Classifica o input do usuário\"\"\"\n",
    "\n",
    "  ask = True\n",
    "  while ask: \n",
    "    # input de temperatura\n",
    "    temp = input('Insira a temperatura (graus Celsius): ')\n",
    "\n",
    "    # transformar para numpy array\n",
    "    temp = np.array(float(temp)).reshape(-1, 1)\n",
    "\n",
    "    # realiza classificado\n",
    "    class_temp = clf.predict(temp)\n",
    "\n",
    "    # transformação inversa para retornar a string original\n",
    "    class_temp = le.inverse_transform(class_temp)\n",
    "\n",
    "    # classificação\n",
    "    print(f\"A classificação da temperatura: {temp.ravel()[0]}\", class_temp[0])\n",
    "\n",
    "    # perguntar\n",
    "    ask = input(f\"Nova classificação (y/n): \") == 'y'"
   ]
  },
  {
   "cell_type": "code",
   "execution_count": 30,
   "id": "ce2851c3",
   "metadata": {},
   "outputs": [
    {
     "name": "stdout",
     "output_type": "stream",
     "text": [
      "Insira a temperatura (graus Celsius): 15\n",
      "A classificação da temperatura: 15.0 frio\n",
      "Nova classificação (y/n): y\n",
      "Insira a temperatura (graus Celsius): 45\n",
      "A classificação da temperatura: 45.0 muito quente\n",
      "Nova classificação (y/n): n\n"
     ]
    }
   ],
   "source": [
    "# chamando a função\n",
    "classify_temp()"
   ]
  },
  {
   "cell_type": "code",
   "execution_count": null,
   "id": "66aca4a4",
   "metadata": {},
   "outputs": [],
   "source": []
  }
 ],
 "metadata": {
  "kernelspec": {
   "display_name": "Python 3 (ipykernel)",
   "language": "python",
   "name": "python3"
  },
  "language_info": {
   "codemirror_mode": {
    "name": "ipython",
    "version": 3
   },
   "file_extension": ".py",
   "mimetype": "text/x-python",
   "name": "python",
   "nbconvert_exporter": "python",
   "pygments_lexer": "ipython3",
   "version": "3.9.7"
  }
 },
 "nbformat": 4,
 "nbformat_minor": 5
}
